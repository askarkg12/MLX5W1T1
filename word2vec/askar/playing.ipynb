{
 "cells": [
  {
   "cell_type": "code",
   "execution_count": 33,
   "metadata": {},
   "outputs": [],
   "source": [
    "max_vocab_size = 100000\n",
    "\n",
    "training_split_ratio = 0.8"
   ]
  },
  {
   "cell_type": "code",
   "execution_count": 44,
   "metadata": {},
   "outputs": [],
   "source": [
    "import torch\n",
    "import torch.nn as nn"
   ]
  },
  {
   "cell_type": "code",
   "execution_count": 3,
   "metadata": {},
   "outputs": [],
   "source": [
    "def load_text8_data(filepath):\n",
    "    with open(file=filepath) as file:\n",
    "        text = file.read()\n",
    "\n",
    "    return text"
   ]
  },
  {
   "cell_type": "code",
   "execution_count": 6,
   "metadata": {},
   "outputs": [],
   "source": [
    "text = load_text8_data(r\"/home/askar/mlx/week1/team/MLX5W1T1/word2vec/data/text8-1mb\")"
   ]
  },
  {
   "cell_type": "code",
   "execution_count": 8,
   "metadata": {},
   "outputs": [],
   "source": [
    "text_words = text.split()"
   ]
  },
  {
   "cell_type": "code",
   "execution_count": 13,
   "metadata": {},
   "outputs": [],
   "source": [
    "from collections import Counter\n",
    "\n",
    "word_counts = Counter(text_words)"
   ]
  },
  {
   "cell_type": "code",
   "execution_count": 20,
   "metadata": {},
   "outputs": [],
   "source": [
    "most_common_words = word_counts.most_common(max_vocab_size)"
   ]
  },
  {
   "cell_type": "code",
   "execution_count": 42,
   "metadata": {},
   "outputs": [],
   "source": [
    "total_vocab_size = len(most_common_words)"
   ]
  },
  {
   "cell_type": "code",
   "execution_count": 24,
   "metadata": {},
   "outputs": [
    {
     "data": {
      "text/plain": [
       "[('the', 10802),\n",
       " ('of', 6209),\n",
       " ('and', 4839),\n",
       " ('in', 3980),\n",
       " ('to', 3545),\n",
       " ('one', 3377),\n",
       " ('a', 3204),\n",
       " ('zero', 2387),\n",
       " ('is', 2052),\n",
       " ('nine', 1774)]"
      ]
     },
     "execution_count": 24,
     "metadata": {},
     "output_type": "execute_result"
    }
   ],
   "source": [
    "most_common_words[0:10]"
   ]
  },
  {
   "cell_type": "code",
   "execution_count": 27,
   "metadata": {},
   "outputs": [],
   "source": [
    "word_to_id = {word:id for id, (word, _) in enumerate(most_common_words)}"
   ]
  },
  {
   "cell_type": "code",
   "execution_count": 30,
   "metadata": {},
   "outputs": [],
   "source": [
    "id_to_word = {id:word for word, id in word_to_id.items()}"
   ]
  },
  {
   "cell_type": "code",
   "execution_count": 37,
   "metadata": {},
   "outputs": [],
   "source": [
    "traing_test_cutoff = int(len(text_words) * training_split_ratio)\n",
    "training_words = text_words[:traing_test_cutoff]\n",
    "test_words = text_words[traing_test_cutoff:]"
   ]
  },
  {
   "cell_type": "code",
   "execution_count": 39,
   "metadata": {},
   "outputs": [
    {
     "name": "stdout",
     "output_type": "stream",
     "text": [
      "\n",
      "Total dataset size: 175599\n",
      "Training dataset size: 140479\n",
      "Test dataset size: 35120\n",
      "      \n"
     ]
    }
   ],
   "source": [
    "print(f\"\"\"\n",
    "Total dataset size: {len(text_words)}\n",
    "Training dataset size: {len(training_words)}\n",
    "Test dataset size: {len(test_words)}\n",
    "      \"\"\")"
   ]
  },
  {
   "cell_type": "code",
   "execution_count": 47,
   "metadata": {},
   "outputs": [],
   "source": [
    "class Word2Vec(nn.Module):\n",
    "    def __init__(self, vocab_size, embedding_dim, context_window=2) -> None:\n",
    "        super().__init__()\n",
    "        self.embed = nn.Embedding(num_embeddings=vocab_size, embedding_dim=embedding_dim)\n",
    "        self.linear = nn.Linear(in_features=embedding_dim, out_features=2*context_window*vocab_size)\n",
    "        self.softmax = nn.Softmax(2*context_window*vocab_size)\n",
    "\n",
    "    def forward(self, word_id):\n",
    "        word_embed = self.embed(word_id)\n",
    "        prediction = self.softmax(self.linear(word_embed))\n",
    "        return prediction\n"
   ]
  },
  {
   "cell_type": "code",
   "execution_count": 48,
   "metadata": {},
   "outputs": [],
   "source": [
    "import torch.nn.functional as F"
   ]
  },
  {
   "cell_type": "code",
   "execution_count": 60,
   "metadata": {},
   "outputs": [],
   "source": [
    "def generate_labels(words, context_window):\n",
    "    for i in range(context_window, len(words) - context_window):\n",
    "        context_vectors = []\n",
    "        for x in range(i-context_window, i+context_window):\n",
    "            context_vectors.append(F.one_hot(torch.tensor(x), total_vocab_size))\n",
    "        context = torch.cat(context_vectors)\n",
    "        yield i, context\n"
   ]
  },
  {
   "cell_type": "code",
   "execution_count": 65,
   "metadata": {},
   "outputs": [],
   "source": [
    "training_label_generator = generate_labels(training_words, 2)\n",
    "test_label_generator = generate_labels(test_words, 2)"
   ]
  },
  {
   "cell_type": "code",
   "execution_count": null,
   "metadata": {},
   "outputs": [],
   "source": [
    "epochs = 5\n",
    "\n",
    "my_model = Word2Vec(total_vocab_size, 100)\n",
    "\n",
    "for _ in range(epochs):\n",
    "    pass"
   ]
  }
 ],
 "metadata": {
  "kernelspec": {
   "display_name": "mlx5w1t1-6xjJOp-h-py3.12",
   "language": "python",
   "name": "python3"
  },
  "language_info": {
   "codemirror_mode": {
    "name": "ipython",
    "version": 3
   },
   "file_extension": ".py",
   "mimetype": "text/x-python",
   "name": "python",
   "nbconvert_exporter": "python",
   "pygments_lexer": "ipython3",
   "version": "3.12.3"
  }
 },
 "nbformat": 4,
 "nbformat_minor": 2
}
